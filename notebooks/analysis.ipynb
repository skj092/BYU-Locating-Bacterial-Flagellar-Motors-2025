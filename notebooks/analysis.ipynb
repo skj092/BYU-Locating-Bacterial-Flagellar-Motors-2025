{
 "cells": [
  {
   "cell_type": "code",
   "execution_count": 2,
   "id": "4bdc21c8-30c6-4b30-98d5-c299236dea11",
   "metadata": {},
   "outputs": [],
   "source": [
    "from pathlib import Path \n",
    "import pandas as pd \n",
    "from PIL import Image \n",
    "import os"
   ]
  },
  {
   "cell_type": "code",
   "execution_count": 3,
   "id": "01636cee-f012-489f-9415-5efeb54deb52",
   "metadata": {},
   "outputs": [],
   "source": [
    "path = Path('/home/sonu/code/BYU-Locating-Bacterial-Flagellar-Motors-2025/data')"
   ]
  },
  {
   "cell_type": "code",
   "execution_count": 4,
   "id": "84517f74-110a-4c9d-a91f-d52cd6c70580",
   "metadata": {},
   "outputs": [
    {
     "data": {
      "text/plain": [
       "['train_labels.csv',\n",
       " 'tomogram_tomo_00e463_3d.gif',\n",
       " 'sample_submission.csv',\n",
       " 'test',\n",
       " 'train',\n",
       " 'yolo_dataset']"
      ]
     },
     "execution_count": 4,
     "metadata": {},
     "output_type": "execute_result"
    }
   ],
   "source": [
    "os.listdir(path)"
   ]
  },
  {
   "cell_type": "code",
   "execution_count": 5,
   "id": "9a978f23-8b86-4332-9e81-5d012adeb5c1",
   "metadata": {},
   "outputs": [],
   "source": [
    "train = pd.read_csv(path/'train_labels.csv')"
   ]
  },
  {
   "cell_type": "code",
   "execution_count": 6,
   "id": "43c7b642-40f6-4d6a-9e64-9f8e747bf873",
   "metadata": {},
   "outputs": [
    {
     "data": {
      "text/plain": [
       "(737, 10)"
      ]
     },
     "execution_count": 6,
     "metadata": {},
     "output_type": "execute_result"
    }
   ],
   "source": [
    "train.shape"
   ]
  },
  {
   "cell_type": "code",
   "execution_count": 7,
   "id": "efcee4eb-d5e0-4647-93f2-71acbfde8d29",
   "metadata": {},
   "outputs": [
    {
     "data": {
      "text/html": [
       "<div>\n",
       "<style scoped>\n",
       "    .dataframe tbody tr th:only-of-type {\n",
       "        vertical-align: middle;\n",
       "    }\n",
       "\n",
       "    .dataframe tbody tr th {\n",
       "        vertical-align: top;\n",
       "    }\n",
       "\n",
       "    .dataframe thead th {\n",
       "        text-align: right;\n",
       "    }\n",
       "</style>\n",
       "<table border=\"1\" class=\"dataframe\">\n",
       "  <thead>\n",
       "    <tr style=\"text-align: right;\">\n",
       "      <th></th>\n",
       "      <th>row_id</th>\n",
       "      <th>tomo_id</th>\n",
       "      <th>Motor axis 0</th>\n",
       "      <th>Motor axis 1</th>\n",
       "      <th>Motor axis 2</th>\n",
       "      <th>Array shape (axis 0)</th>\n",
       "      <th>Array shape (axis 1)</th>\n",
       "      <th>Array shape (axis 2)</th>\n",
       "      <th>Voxel spacing</th>\n",
       "      <th>Number of motors</th>\n",
       "    </tr>\n",
       "  </thead>\n",
       "  <tbody>\n",
       "    <tr>\n",
       "      <th>0</th>\n",
       "      <td>0</td>\n",
       "      <td>tomo_003acc</td>\n",
       "      <td>-1.0</td>\n",
       "      <td>-1.0</td>\n",
       "      <td>-1.0</td>\n",
       "      <td>500</td>\n",
       "      <td>1912</td>\n",
       "      <td>1847</td>\n",
       "      <td>6.5</td>\n",
       "      <td>0</td>\n",
       "    </tr>\n",
       "    <tr>\n",
       "      <th>1</th>\n",
       "      <td>1</td>\n",
       "      <td>tomo_00e047</td>\n",
       "      <td>169.0</td>\n",
       "      <td>546.0</td>\n",
       "      <td>603.0</td>\n",
       "      <td>300</td>\n",
       "      <td>959</td>\n",
       "      <td>928</td>\n",
       "      <td>15.6</td>\n",
       "      <td>1</td>\n",
       "    </tr>\n",
       "    <tr>\n",
       "      <th>2</th>\n",
       "      <td>2</td>\n",
       "      <td>tomo_00e463</td>\n",
       "      <td>235.0</td>\n",
       "      <td>403.0</td>\n",
       "      <td>137.0</td>\n",
       "      <td>500</td>\n",
       "      <td>924</td>\n",
       "      <td>956</td>\n",
       "      <td>19.7</td>\n",
       "      <td>6</td>\n",
       "    </tr>\n",
       "    <tr>\n",
       "      <th>3</th>\n",
       "      <td>3</td>\n",
       "      <td>tomo_00e463</td>\n",
       "      <td>243.0</td>\n",
       "      <td>363.0</td>\n",
       "      <td>153.0</td>\n",
       "      <td>500</td>\n",
       "      <td>924</td>\n",
       "      <td>956</td>\n",
       "      <td>19.7</td>\n",
       "      <td>6</td>\n",
       "    </tr>\n",
       "    <tr>\n",
       "      <th>4</th>\n",
       "      <td>4</td>\n",
       "      <td>tomo_00e463</td>\n",
       "      <td>222.0</td>\n",
       "      <td>379.0</td>\n",
       "      <td>144.0</td>\n",
       "      <td>500</td>\n",
       "      <td>924</td>\n",
       "      <td>956</td>\n",
       "      <td>19.7</td>\n",
       "      <td>6</td>\n",
       "    </tr>\n",
       "  </tbody>\n",
       "</table>\n",
       "</div>"
      ],
      "text/plain": [
       "   row_id      tomo_id  Motor axis 0  Motor axis 1  Motor axis 2  \\\n",
       "0       0  tomo_003acc          -1.0          -1.0          -1.0   \n",
       "1       1  tomo_00e047         169.0         546.0         603.0   \n",
       "2       2  tomo_00e463         235.0         403.0         137.0   \n",
       "3       3  tomo_00e463         243.0         363.0         153.0   \n",
       "4       4  tomo_00e463         222.0         379.0         144.0   \n",
       "\n",
       "   Array shape (axis 0)  Array shape (axis 1)  Array shape (axis 2)  \\\n",
       "0                   500                  1912                  1847   \n",
       "1                   300                   959                   928   \n",
       "2                   500                   924                   956   \n",
       "3                   500                   924                   956   \n",
       "4                   500                   924                   956   \n",
       "\n",
       "   Voxel spacing  Number of motors  \n",
       "0            6.5                 0  \n",
       "1           15.6                 1  \n",
       "2           19.7                 6  \n",
       "3           19.7                 6  \n",
       "4           19.7                 6  "
      ]
     },
     "execution_count": 7,
     "metadata": {},
     "output_type": "execute_result"
    }
   ],
   "source": [
    "train.head()"
   ]
  },
  {
   "cell_type": "code",
   "execution_count": 9,
   "id": "896a54b8-bad6-4cc0-897f-6b1c923095e0",
   "metadata": {},
   "outputs": [
    {
     "data": {
      "text/plain": [
       "array([ 0,  1,  6,  2,  4, 10,  3])"
      ]
     },
     "execution_count": 9,
     "metadata": {},
     "output_type": "execute_result"
    }
   ],
   "source": [
    "train['Number of motors'].unique()"
   ]
  },
  {
   "cell_type": "code",
   "execution_count": 11,
   "id": "d94da4ed-1cfc-46c7-b9bb-87842993ec15",
   "metadata": {},
   "outputs": [
    {
     "data": {
      "text/plain": [
       "(286, 10)"
      ]
     },
     "execution_count": 11,
     "metadata": {},
     "output_type": "execute_result"
    }
   ],
   "source": [
    "train.loc[train['Number of motors'] == 0].shape"
   ]
  },
  {
   "cell_type": "code",
   "execution_count": null,
   "id": "255ffa2c-7b90-4926-9ea4-22bec172c967",
   "metadata": {},
   "outputs": [],
   "source": []
  }
 ],
 "metadata": {
  "kernelspec": {
   "display_name": "Python 3 (ipykernel)",
   "language": "python",
   "name": "python3"
  },
  "language_info": {
   "codemirror_mode": {
    "name": "ipython",
    "version": 3
   },
   "file_extension": ".py",
   "mimetype": "text/x-python",
   "name": "python",
   "nbconvert_exporter": "python",
   "pygments_lexer": "ipython3",
   "version": "3.11.11"
  }
 },
 "nbformat": 4,
 "nbformat_minor": 5
}
